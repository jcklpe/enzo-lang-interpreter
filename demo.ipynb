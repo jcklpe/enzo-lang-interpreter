{
 "cells": [
  {
   "cell_type": "code",
   "execution_count": null,
   "id": "31ab30b6",
   "metadata": {
    "vscode": {
     "languageId": "plaintext"
    }
   },
   "outputs": [],
   "source": [
    "# Enable hot-reloading of your source files (for dev)\n",
    "%load_ext autoreload\n",
    "%autoreload 2\n",
    "\n",
    "# Optional: Add src/ to the path manually (if not using poetry install)\n",
    "import sys\n",
    "sys.path.insert(0, \"./src\")\n",
    "\n",
    "# Import core interpreter logic\n",
    "from enzo.parser import parse\n",
    "from enzo.evaluator import eval_ast\n",
    "\n",
    "def run_enzo(code: str):\n",
    "    try:\n",
    "        ast = parse(code)\n",
    "        result = eval_ast(ast)\n",
    "        return result\n",
    "    except Exception as e:\n",
    "        return f\"Error: {e}\"\n"
   ]
  },
  {
   "cell_type": "code",
   "execution_count": null,
   "id": "892d1c0d",
   "metadata": {
    "vscode": {
     "languageId": "plaintext"
    }
   },
   "outputs": [],
   "source": [
    "run_enzo('$x: 4')\n",
    "run_enzo('$x + 3')\n"
   ]
  }
 ],
 "metadata": {
  "language_info": {
   "name": "python"
  }
 },
 "nbformat": 4,
 "nbformat_minor": 5
}
