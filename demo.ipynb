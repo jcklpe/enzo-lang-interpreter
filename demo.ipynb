{
 "cells": [
  {
   "cell_type": "markdown",
   "id": "11218522",
   "metadata": {},
   "source": [
    "# Enzo Playground\n",
    "This lets you run Enzo in the browser"
   ]
  },
  {
   "cell_type": "code",
   "execution_count": 1,
   "id": "31ab30b6",
   "metadata": {
    "tags": ["hide_input"]
   },
   "outputs": [],
   "source": [
    "# Enable hot-reloading of your source files (for dev)\n",
    "%load_ext autoreload\n",
    "%autoreload 2\n",
    "\n",
    "# Optional: Add src/ to the path manually (if not using poetry install)\n",
    "import sys\n",
    "sys.path.insert(0, \"./src\")\n",
    "\n",
    "# Import core interpreter logic\n",
    "from enzo.parser import parse\n",
    "from enzo.evaluator import eval_ast\n",
    "\n",
    "def run_enzo(code: str):\n",
    "    try:\n",
    "        ast = parse(code)\n",
    "        result = eval_ast(ast)\n",
    "        return result\n",
    "    except Exception as e:\n",
    "        return f\"Error: {e}\"\n"
   ]
  },
  {
   "cell_type": "code",
   "execution_count": 2,
   "id": "892d1c0d",
   "metadata": {},
   "outputs": [
    {
     "data": {
      "text/plain": [
       "7"
      ]
     },
     "execution_count": 2,
     "metadata": {},
     "output_type": "execute_result"
    }
   ],
   "source": [
    "run_enzo('$x: 4')\n",
    "run_enzo('$x + 3')\n"
   ]
  }
 ],
 "metadata": {
  "kernelspec": {
   "display_name": "enzo-p_DEz7Bi-py3.13",
   "language": "python",
   "name": "python3"
  },
  "language_info": {
   "codemirror_mode": {
    "name": "ipython",
    "version": 3
   },
   "file_extension": ".py",
   "mimetype": "text/x-python",
   "name": "python",
   "nbconvert_exporter": "python",
   "pygments_lexer": "ipython3",
   "version": "3.13.2"
  }
 },
 "nbformat": 4,
 "nbformat_minor": 5
}
